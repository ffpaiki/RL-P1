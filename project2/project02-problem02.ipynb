{
 "cells": [
  {
   "cell_type": "code",
   "execution_count": 2,
   "metadata": {},
   "outputs": [],
   "source": [
    "import numpy as np\n",
    "import matplotlib.pyplot as plt"
   ]
  },
  {
   "cell_type": "code",
   "execution_count": 65,
   "metadata": {},
   "outputs": [
    {
     "name": "stdout",
     "output_type": "stream",
     "text": [
      "[0 0 1 1]\n",
      "[0 0 1 1]\n",
      "[1 0 1 1]\n",
      "[0 1 1 1]\n",
      "[0 0 0 1]\n",
      "[0 0 1 0]\n"
     ]
    },
    {
     "data": {
      "text/plain": [
       "19"
      ]
     },
     "execution_count": 65,
     "metadata": {},
     "output_type": "execute_result"
    }
   ],
   "source": [
    "states = np.array([[0,0,0,0],\n",
    "                   [0,0,0,1],\n",
    "                   [0,0,1,0],\n",
    "                   [0,0,1,1],\n",
    "                   [0,1,0,0],\n",
    "                   [0,1,0,1],\n",
    "                   [0,1,1,0],\n",
    "                   [0,1,1,1],\n",
    "                   [1,0,0,0],\n",
    "                   [1,0,0,1],\n",
    "                   [1,0,1,0],\n",
    "                   [1,0,1,1],\n",
    "                   [1,1,0,0],\n",
    "                   [1,1,0,1],\n",
    "                   [1,1,1,0],\n",
    "                   [1,1,1,1]])\n",
    "\n",
    "# Adding new something\n",
    "c = 0\n",
    "\n",
    "num_states = states.shape[0]\n",
    "\n",
    "actions = np.array([[0,0,0,0],\n",
    "                    [1,0,0,0],\n",
    "                    [0,1,0,0],\n",
    "                    [0,0,1,0],\n",
    "                    [0,0,0,1]])\n",
    "\n",
    "num_actions = actions.shape[0]\n",
    "\n",
    "connectivity_matrix = \\\n",
    "    np.array([[0,0,-1,0],\n",
    "              [1,0,-1,-1],\n",
    "              [0,1,0,0],\n",
    "              [-1,1,1,0],])\n",
    "\n",
    "cm_s = np.dot(connectivity_matrix, states[num_states-1])\n",
    "cm_s[cm_s < 0] = 0\n",
    "print(cm_s)\n",
    "for j in range(num_actions):\n",
    "    cms_a = np.bitwise_xor(cm_s, actions[j])\n",
    "    print(cms_a)\n",
    "\n",
    "\n",
    "# for i in range(num_states):\n",
    "#     cm_s = np.dot(connectivity_matrix, states[i])\n",
    "#     # print(cm_s)\n",
    "#     for j in range(num_actions):\n",
    "#         cms_a = np.bitwise_xor(cm_s, actions[j])\n",
    "        # print(cms_a)\n",
    "\n",
    "\n",
    "# Calculate the reward for a given state and action\n",
    "def getReward(state_index,action_index):\n",
    "    if action_index != 0:\n",
    "        return np.sum(states[state_index]*5)-1\n",
    "    else:\n",
    "        return np.sum(states[state_index]*5)\n",
    "\n",
    "\n",
    "# Calculate the noise for a given probability\n",
    "def getNoise(prob):\n",
    "    return np.random.binomial(n=1,p=prob,size=4)\n",
    "\n"
   ]
  },
  {
   "cell_type": "code",
   "execution_count": null,
   "metadata": {},
   "outputs": [],
   "source": []
  },
  {
   "cell_type": "markdown",
   "metadata": {},
   "source": [
    "### Part a"
   ]
  },
  {
   "cell_type": "code",
   "execution_count": null,
   "metadata": {},
   "outputs": [],
   "source": [
    "prob = 0.05\n",
    "theta = 0.01\n",
    "\n",
    "vs0 = np.zeros(num_states)\n",
    "\n",
    "noise = getNoise(prob)"
   ]
  },
  {
   "cell_type": "markdown",
   "metadata": {},
   "source": [
    "### Part b"
   ]
  },
  {
   "cell_type": "code",
   "execution_count": null,
   "metadata": {},
   "outputs": [],
   "source": []
  },
  {
   "cell_type": "markdown",
   "metadata": {},
   "source": [
    "### Part c"
   ]
  },
  {
   "cell_type": "code",
   "execution_count": null,
   "metadata": {},
   "outputs": [],
   "source": []
  }
 ],
 "metadata": {
  "kernelspec": {
   "display_name": ".venv",
   "language": "python",
   "name": "python3"
  },
  "language_info": {
   "codemirror_mode": {
    "name": "ipython",
    "version": 3
   },
   "file_extension": ".py",
   "mimetype": "text/x-python",
   "name": "python",
   "nbconvert_exporter": "python",
   "pygments_lexer": "ipython3",
   "version": "3.11.5"
  }
 },
 "nbformat": 4,
 "nbformat_minor": 2
}
