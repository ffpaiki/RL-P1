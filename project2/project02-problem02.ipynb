{
 "cells": [
  {
   "cell_type": "code",
   "execution_count": 186,
   "metadata": {},
   "outputs": [],
   "source": [
    "import numpy as np\n",
    "import matplotlib.pyplot as plt"
   ]
  },
  {
   "cell_type": "code",
   "execution_count": 187,
   "metadata": {},
   "outputs": [],
   "source": [
    "states = np.array([[0,0,0,0],   # 0\n",
    "                   [0,0,0,1],   # 1\n",
    "                   [0,0,1,0],   # 2\n",
    "                   [0,0,1,1],   # 3\n",
    "                   [0,1,0,0],   # 4\n",
    "                   [0,1,0,1],   # 5\n",
    "                   [0,1,1,0],   # 6\n",
    "                   [0,1,1,1],   # 7\n",
    "                   [1,0,0,0],   # 8\n",
    "                   [1,0,0,1],   # 9\n",
    "                   [1,0,1,0],   # 10\n",
    "                   [1,0,1,1],   # 11\n",
    "                   [1,1,0,0],   # 12\n",
    "                   [1,1,0,1],   # 13\n",
    "                   [1,1,1,0],   # 14\n",
    "                   [1,1,1,1]])  # 15\n",
    "\n",
    "# Create additional states\n",
    "new_states = np.vstack((states, np.array([[0,0,0,0]])))\n",
    "\n",
    "num_states = states.shape[0]\n",
    "\n",
    "actions = np.array([[0,0,0,0],  # 0\n",
    "                    [1,0,0,0],  # 1\n",
    "                    [0,1,0,0],  # 2\n",
    "                    [0,0,1,0],  # 3\n",
    "                    [0,0,0,1]]) # 4\n",
    "\n",
    "num_actions = actions.shape[0]\n",
    "\n",
    "connectivity_matrix = \\\n",
    "    np.array([[0,0,-1,0],\n",
    "              [1,0,-1,-1],\n",
    "              [0,1,0,0],\n",
    "              [-1,1,1,0],])\n",
    "\n",
    "def normalize(v):\n",
    "    v[v < 0] = 0\n",
    "    v[v > 0] = 1\n",
    "\n",
    "    return v\n",
    "\n",
    "def getNextState(state, action, noise):\n",
    "    cm_s = np.dot(connectivity_matrix, state)\n",
    "    cm_s = normalize(cm_s)\n",
    "\n",
    "    next_state = np.logical_xor(cm_s, action)\n",
    "    next_state = np.logical_xor(next_state, noise)\n",
    "\n",
    "    return next_state.astype(int)\n",
    "\n",
    "# new_states = getNextState(states[7], actions[4], np.array([0,0,0,0]))\n",
    "# print(new_states)\n",
    "\n",
    "# Calculate the reward for a given state and action\n",
    "def getReward(state_index,action_index):\n",
    "    return np.sum(states[state_index]*5)-np.linalg.norm(actions[action_index], ord=1)\n",
    "\n",
    "    # if action_index == 1 or action_index == 2:\n",
    "    #     return -1\n",
    "    # else:\n",
    "    #     return np.sum(states[state_index]*5)-np.linalg.norm(actions[action_index], ord=1)\n",
    "\n",
    "\n",
    "\n",
    "# Calculate the noise for a given probability\n",
    "def getNoise(prob):\n",
    "    return np.random.binomial(n=1,p=prob,size=4)\n",
    "\n",
    "def getTransitionProbabilities(prob):\n",
    "    p = np.zeros((num_actions,num_states,num_states))\n",
    "    r = np.zeros((num_actions,num_states,num_states))\n",
    "    \n",
    "    for a in range(num_actions):\n",
    "        for i in range(num_states):\n",
    "            for j in range(num_states):\n",
    "                power_var = np.linalg.norm(states[j]-np.logical_xor(normalize(np.dot(connectivity_matrix, states[i])), actions[a]),ord=1)\n",
    "                \n",
    "                p[a][i][j] = (prob**power_var) * ((1-prob)**(4-power_var))\n",
    "                r[a][i][j] = getReward(j,a)\n",
    "    return p,r\n",
    "\n",
    "\n",
    "\n",
    "        \n",
    "\n",
    "def getRSA(p_matrix, r_matrix):\n",
    "    rsa = np.zeros((num_actions, num_states))\n",
    "\n",
    "    for a in range(num_actions):\n",
    "        for s in range(num_states):\n",
    "            for s_prime in range(num_states):\n",
    "                rsa[a][s] += (p_matrix[a][s][s_prime] * r_matrix[a][s][s_prime])\n",
    "    \n",
    "    return rsa"
   ]
  },
  {
   "cell_type": "markdown",
   "metadata": {},
   "source": [
    "### Part a"
   ]
  },
  {
   "cell_type": "code",
   "execution_count": 188,
   "metadata": {},
   "outputs": [
    {
     "name": "stdout",
     "output_type": "stream",
     "text": [
      "[2, 2, 2, 2, 2, 2, 2, 2, 2, 2, 2, 2, 2, 2, 2, 2]\n"
     ]
    }
   ],
   "source": [
    "prob = 0.05\n",
    "theta = 0.01\n",
    "gamma = 0.95\n",
    "\n",
    "def value_iteration(p, rsa, gamma, theta):\n",
    "    v_0 = np.zeros((num_actions, num_states))\n",
    "    v_1 = np.zeros((num_actions, num_states))\n",
    "    v_result = np.zeros((num_states))\n",
    "\n",
    "    while True:\n",
    "        delta = 0\n",
    "        v_0 = np.copy(v_1)\n",
    "        v_1 = np.zeros((num_actions, num_states))\n",
    "\n",
    "        for a in range(num_actions):\n",
    "            v_1[a] = rsa[a] + gamma * np.matmul(p[a], v_0[a].reshape(num_states,1)).reshape(num_states)\n",
    "\n",
    "        for s in range(num_states):\n",
    "            # Find the maximum value state for all actions\n",
    "            v_result[s] = np.max(v_1[:,s])\n",
    "            \n",
    "            # Always set the value of the goal state to 0\n",
    "            v_result[15] = 0\n",
    "\n",
    "            for i in range(num_actions):\n",
    "                delta = max(delta, abs(v_0[i][s] - v_1[i][s]))\n",
    "            \n",
    "            if(delta < theta):\n",
    "                return v_result,v_0,delta\n",
    "            \n",
    "\n",
    "\n",
    "p,r = getTransitionProbabilities(prob)\n",
    "\n",
    "rsa = getRSA(p,r)\n",
    "\n",
    "v_result, q, delta = value_iteration(p, rsa, gamma, theta)\n",
    "\n",
    "optimal_policy = []\n",
    "\n",
    "for i in range(num_states):\n",
    "    optimal_policy.append(np.argmax(q[:,i]))\n",
    "\n",
    "print(optimal_policy)\n",
    "\n",
    "\n"
   ]
  },
  {
   "cell_type": "code",
   "execution_count": 200,
   "metadata": {},
   "outputs": [
    {
     "name": "stdout",
     "output_type": "stream",
     "text": [
      "2.84155\n",
      "0.4727999999999998\n"
     ]
    }
   ],
   "source": [
    "from random import randrange\n",
    "\n",
    "num_episodes = 100\n",
    "num_steps = 200\n",
    "\n",
    "\n",
    "def getAverageActivation(random = False):\n",
    "    AvgA = 0\n",
    "    for e in range(num_episodes):\n",
    "        sum_s = 0\n",
    "\n",
    "        # Select random start state\n",
    "        s = randrange(num_states)\n",
    "        \n",
    "        # print(f'Start State: {s}')\n",
    "\n",
    "        for i in range(num_steps):\n",
    "            # print(f'State: {s}')\n",
    "\n",
    "            # Get the next state\n",
    "            if random:\n",
    "                next_state = getNextState(states[s], actions[optimal_policy[s]], getNoise(prob))\n",
    "            else:\n",
    "                next_state = getNextState(states[s], actions[0], getNoise(prob))\n",
    "\n",
    "            \n",
    "            # Get the index of the next state\n",
    "            s = np.where(np.all(states == next_state, axis=1))[0][0]\n",
    "            # print(f'Next State: {next_state}')\n",
    "\n",
    "            # Calculate the sum of the states\n",
    "            sum_s += np.linalg.norm(states[next_state], ord=1)\n",
    "            # print(f'Sum: {sum_s}')\n",
    "\n",
    "        # print(sum_s/200)\n",
    "        AvgA += sum_s/num_steps\n",
    "        # print(AvgA)\n",
    "    \n",
    "    return (AvgA/num_episodes)\n",
    "    \n",
    "print(getAverageActivation(True))\n",
    "print(getAverageActivation(False))\n",
    "\n"
   ]
  },
  {
   "cell_type": "markdown",
   "metadata": {},
   "source": [
    "### Part b"
   ]
  },
  {
   "cell_type": "markdown",
   "metadata": {},
   "source": [
    "$p = 0.2$, $\\gamma=0.95$, $\\theta=0.01$"
   ]
  },
  {
   "cell_type": "code",
   "execution_count": 202,
   "metadata": {},
   "outputs": [
    {
     "name": "stdout",
     "output_type": "stream",
     "text": [
      "[2, 2, 2, 2, 2, 2, 2, 2, 2, 2, 2, 2, 2, 2, 2, 2]\n",
      "2.3572500000000005\n",
      "1.2585500000000003\n"
     ]
    }
   ],
   "source": [
    "prob = 0.2\n",
    "\n",
    "p,r = getTransitionProbabilities(prob)\n",
    "\n",
    "rsa = getRSA(p,r)\n",
    "\n",
    "v_result, q, delta = value_iteration(p, rsa, gamma, theta)\n",
    "\n",
    "optimal_policy = []\n",
    "for i in range(num_states):\n",
    "    optimal_policy.append(np.argmax(q[:,i]))\n",
    "\n",
    "print(optimal_policy)\n",
    "print(getAverageActivation(True))\n",
    "print(getAverageActivation(False))"
   ]
  },
  {
   "cell_type": "markdown",
   "metadata": {},
   "source": [
    "$p = 0.45$, $\\gamma=0.95$, $\\theta=0.01$"
   ]
  },
  {
   "cell_type": "code",
   "execution_count": 203,
   "metadata": {},
   "outputs": [
    {
     "name": "stdout",
     "output_type": "stream",
     "text": [
      "[0, 0, 0, 0, 0, 0, 0, 0, 0, 0, 0, 0, 0, 0, 0, 0]\n",
      "1.9201000000000008\n",
      "1.9107499999999993\n"
     ]
    }
   ],
   "source": [
    "prob = 0.45\n",
    "\n",
    "p,r = getTransitionProbabilities(prob)\n",
    "\n",
    "rsa = getRSA(p,r)\n",
    "\n",
    "v_result, q, delta = value_iteration(p, rsa, gamma, theta)\n",
    "\n",
    "optimal_policy = []\n",
    "for i in range(num_states):\n",
    "    optimal_policy.append(np.argmax(q[:,i]))\n",
    "\n",
    "print(optimal_policy)\n",
    "print(getAverageActivation(True))\n",
    "print(getAverageActivation(False))"
   ]
  },
  {
   "cell_type": "markdown",
   "metadata": {},
   "source": [
    "### Part c"
   ]
  },
  {
   "cell_type": "code",
   "execution_count": null,
   "metadata": {},
   "outputs": [],
   "source": []
  }
 ],
 "metadata": {
  "kernelspec": {
   "display_name": ".venv",
   "language": "python",
   "name": "python3"
  },
  "language_info": {
   "codemirror_mode": {
    "name": "ipython",
    "version": 3
   },
   "file_extension": ".py",
   "mimetype": "text/x-python",
   "name": "python",
   "nbconvert_exporter": "python",
   "pygments_lexer": "ipython3",
   "version": "3.11.5"
  }
 },
 "nbformat": 4,
 "nbformat_minor": 2
}
