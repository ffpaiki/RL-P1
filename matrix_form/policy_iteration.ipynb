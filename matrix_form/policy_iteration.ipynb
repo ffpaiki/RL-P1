{
 "cells": [
  {
   "cell_type": "code",
   "execution_count": 1,
   "metadata": {},
   "outputs": [],
   "source": [
    "import numpy as np"
   ]
  },
  {
   "cell_type": "code",
   "execution_count": 17,
   "metadata": {},
   "outputs": [
    {
     "name": "stdout",
     "output_type": "stream",
     "text": [
      "[1 0]\n"
     ]
    }
   ],
   "source": [
    "# Variables\n",
    "gamma = 0.9\n",
    "num_states = 2\n",
    "\n",
    "# Transition probabilities\n",
    "p_a1 = np.array([[0.2 , 0.8],\n",
    "                 [ 0  ,  1 ]])\n",
    "p_a2 = np.array([[ 1  , 0  ],\n",
    "                 [0.1 ,0.9 ]])\n",
    "psa = np.array([p_a1, p_a2])\n",
    "\n",
    "# Reward for each state-action pair\n",
    "rss_a1 = np.array([[-1.5  , 0.5],\n",
    "                 [-1.5  , 0.5]])\n",
    "rss_a2 = np.array([[-1    , 1  ],\n",
    "                 [-1    , 1  ]])\n",
    "rsa = np.array([rss_a1, rss_a2])\n",
    "\n",
    "\n",
    "# Calculate the reward for each action\n",
    "# Each index of the result is the reward for the corresponding state\n",
    "r_a1 = np.dot(np.multiply(p_a1, rss_a1),np.ones((num_states,1)))\n",
    "r_a2 = np.dot(np.multiply(p_a2, rss_a2),np.ones((num_states,1)))\n",
    "\n",
    "\n",
    "init_pi = np.array([1, 0]).astype(int)\n",
    "\n",
    "v = np.array([4.51,5])\n",
    "\n",
    "# print(0.9*np.dot(p_a1,v))\n",
    "# print(0.9*np.dot(p_a2,v))\n",
    "\n",
    "def policy_evaluation(p, r, pi, v, gamma):\n",
    "    return np.identity(num_states) - gamma * np.dot(p[pi], np.ones((2,1)))\n",
    "\n"
   ]
  },
  {
   "cell_type": "code",
   "execution_count": 4,
   "metadata": {},
   "outputs": [
    {
     "name": "stdout",
     "output_type": "stream",
     "text": [
      "[[ 0.  1.  4.]\n",
      " [ 9. 16. 25.]\n",
      " [36. 49. 64.]]\n"
     ]
    }
   ],
   "source": []
  },
  {
   "cell_type": "code",
   "execution_count": null,
   "metadata": {},
   "outputs": [],
   "source": []
  }
 ],
 "metadata": {
  "kernelspec": {
   "display_name": ".venv",
   "language": "python",
   "name": "python3"
  },
  "language_info": {
   "codemirror_mode": {
    "name": "ipython",
    "version": 3
   },
   "file_extension": ".py",
   "mimetype": "text/x-python",
   "name": "python",
   "nbconvert_exporter": "python",
   "pygments_lexer": "ipython3",
   "version": "3.11.5"
  }
 },
 "nbformat": 4,
 "nbformat_minor": 2
}
